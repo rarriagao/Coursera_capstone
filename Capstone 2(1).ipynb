{
 "cells": [
  {
   "cell_type": "markdown",
   "metadata": {},
   "source": [
    "# Predicting GHG emissions using Neural Networks"
   ]
  },
  {
   "cell_type": "markdown",
   "metadata": {},
   "source": [
    "  "
   ]
  },
  {
   "cell_type": "markdown",
   "metadata": {},
   "source": [
    "Climate change is a real global concern in our times.  \n",
    "One of the most relevant metrics for this problem is the amount of Green House Effect Gases (expressed as tons of Carbon Dioxide, or CO2).\n",
    "Energy use by human activities can be correlated to the production of Green House Effect Gases (GHG).  \n",
    "Usually big and old buildings will have a bigger impact on GHG than modern, smaller and energy efficient ones. \n",
    "Data science will always try to answer a question (or prove a hypothesis if you want to be technical), \n",
    "and this is what can be considered \"Business understanding\".  \n",
    "So the question can be: Can we use machine learning to predict the amount of GHG produced by buildings greater than 25K square feet? "
   ]
  },
  {
   "cell_type": "markdown",
   "metadata": {},
   "source": [
    "To answer this, we will be using the data set: 'Energy and Water Data Disclosure for Local Law 84 2020 (Data for Calendar Year 2019)', from Mayor's Office of Sustainability (MOS) of New York City, and available from NYC Open Data at https://data.cityofnewyork.us/Environment/Energy-and-Water-Data-Disclosure-for-Local-Law-84-/28fi-3us3."
   ]
  },
  {
   "cell_type": "markdown",
   "metadata": {},
   "source": [
    "## Contents :\n",
    "    1- Process the dataset\n",
    "    2- Create an initial deep neural network\n",
    "    3- Train the DNN\n",
    "    4- Test the DNN\n",
    "    5- Create a second DNN\n",
    "    6- Train and test the sDNN\n",
    "    7- Compare the results from both DNN's to another ML algorithm (random forest)"
   ]
  },
  {
   "cell_type": "markdown",
   "metadata": {},
   "source": [
    "### Importing needed modules"
   ]
  },
  {
   "cell_type": "markdown",
   "metadata": {},
   "source": [
    "For Deep Learning, Keras and Tensorflow will be used.  Pandas and numpy to work with arrays and dataframes.  \n",
    "Sklearn for Random Forest and metrics.  Lastly matplotlib and seaborn for graphics."
   ]
  },
  {
   "cell_type": "code",
   "execution_count": 1,
   "metadata": {},
   "outputs": [
    {
     "name": "stderr",
     "output_type": "stream",
     "text": [
      "/home/jupyterlab/conda/envs/python/lib/python3.6/site-packages/tensorflow/python/framework/dtypes.py:519: FutureWarning: Passing (type, 1) or '1type' as a synonym of type is deprecated; in a future version of numpy, it will be understood as (type, (1,)) / '(1,)type'.\n",
      "  _np_qint8 = np.dtype([(\"qint8\", np.int8, 1)])\n",
      "/home/jupyterlab/conda/envs/python/lib/python3.6/site-packages/tensorflow/python/framework/dtypes.py:520: FutureWarning: Passing (type, 1) or '1type' as a synonym of type is deprecated; in a future version of numpy, it will be understood as (type, (1,)) / '(1,)type'.\n",
      "  _np_quint8 = np.dtype([(\"quint8\", np.uint8, 1)])\n",
      "/home/jupyterlab/conda/envs/python/lib/python3.6/site-packages/tensorflow/python/framework/dtypes.py:521: FutureWarning: Passing (type, 1) or '1type' as a synonym of type is deprecated; in a future version of numpy, it will be understood as (type, (1,)) / '(1,)type'.\n",
      "  _np_qint16 = np.dtype([(\"qint16\", np.int16, 1)])\n",
      "/home/jupyterlab/conda/envs/python/lib/python3.6/site-packages/tensorflow/python/framework/dtypes.py:522: FutureWarning: Passing (type, 1) or '1type' as a synonym of type is deprecated; in a future version of numpy, it will be understood as (type, (1,)) / '(1,)type'.\n",
      "  _np_quint16 = np.dtype([(\"quint16\", np.uint16, 1)])\n",
      "/home/jupyterlab/conda/envs/python/lib/python3.6/site-packages/tensorflow/python/framework/dtypes.py:523: FutureWarning: Passing (type, 1) or '1type' as a synonym of type is deprecated; in a future version of numpy, it will be understood as (type, (1,)) / '(1,)type'.\n",
      "  _np_qint32 = np.dtype([(\"qint32\", np.int32, 1)])\n",
      "/home/jupyterlab/conda/envs/python/lib/python3.6/site-packages/tensorflow/python/framework/dtypes.py:528: FutureWarning: Passing (type, 1) or '1type' as a synonym of type is deprecated; in a future version of numpy, it will be understood as (type, (1,)) / '(1,)type'.\n",
      "  np_resource = np.dtype([(\"resource\", np.ubyte, 1)])\n",
      "Using TensorFlow backend.\n"
     ]
    }
   ],
   "source": [
    "import tensorflow as tf\n",
    "from keras.callbacks import ModelCheckpoint\n",
    "from keras.models import Sequential\n",
    "from keras.layers import Dense, Activation, Flatten\n",
    "from sklearn.model_selection import train_test_split\n",
    "from sklearn.ensemble import RandomForestRegressor\n",
    "from sklearn.metrics import mean_absolute_error \n",
    "from matplotlib import pyplot as plt\n",
    "import seaborn as sb\n",
    "import matplotlib.pyplot as plt\n",
    "import pandas as pd\n",
    "import numpy as np\n",
    "import warnings \n",
    "warnings.filterwarnings('ignore')\n",
    "warnings.filterwarnings('ignore', category=DeprecationWarning)\n",
    "from sklearn import preprocessing\n",
    "from sklearn.preprocessing import StandardScaler\n"
   ]
  },
  {
   "cell_type": "markdown",
   "metadata": {},
   "source": [
    "## 1. Processing the Data set."
   ]
  },
  {
   "cell_type": "markdown",
   "metadata": {},
   "source": [
    "A reduced csv file was produced from the original data set, using Excel.   \n",
    "Mainly all null values were eliminated.  All the columns with non relevant information were also removed.  \n",
    "Variable City Building was binary coded.  Date of Build was converted to 'years' (2019-DoB); and DoB used was <= 2018.  \n",
    "Total GHG Emissions was renamed target. "
   ]
  },
  {
   "cell_type": "markdown",
   "metadata": {},
   "source": [
    "From the original 68 columns and 28K rows, the cleaned data set has 11 columns (1 categorical, 9 numerical and target), and 16.8k rows."
   ]
  },
  {
   "cell_type": "code",
   "execution_count": 2,
   "metadata": {},
   "outputs": [],
   "source": [
    "# !wget -O Energy_and_Water_Data_Reduced_.csv https://github.com/rarriagao/Coursera_capstone/blob/master/Energy_and_Water_Data_Reduced_.csv"
   ]
  },
  {
   "cell_type": "code",
   "execution_count": 3,
   "metadata": {},
   "outputs": [],
   "source": [
    "# load cleaned dataset\n",
    "df1 = pd.read_csv(\"Energy_and_Water_Data_Reduced_.csv\")"
   ]
  },
  {
   "cell_type": "code",
   "execution_count": 4,
   "metadata": {},
   "outputs": [
    {
     "data": {
      "text/html": [
       "<div>\n",
       "<style scoped>\n",
       "    .dataframe tbody tr th:only-of-type {\n",
       "        vertical-align: middle;\n",
       "    }\n",
       "\n",
       "    .dataframe tbody tr th {\n",
       "        vertical-align: top;\n",
       "    }\n",
       "\n",
       "    .dataframe thead th {\n",
       "        text-align: right;\n",
       "    }\n",
       "</style>\n",
       "<table border=\"1\" class=\"dataframe\">\n",
       "  <thead>\n",
       "    <tr style=\"text-align: right;\">\n",
       "      <th></th>\n",
       "      <th>cityBuilding</th>\n",
       "      <th>area</th>\n",
       "      <th>years</th>\n",
       "      <th>num_Buildings</th>\n",
       "      <th>occupancy</th>\n",
       "      <th>site_EUI</th>\n",
       "      <th>wn_Site_n_Gas_Use</th>\n",
       "      <th>wn_Site_Electricity</th>\n",
       "      <th>water_Use</th>\n",
       "      <th>target</th>\n",
       "    </tr>\n",
       "  </thead>\n",
       "  <tbody>\n",
       "    <tr>\n",
       "      <th>count</th>\n",
       "      <td>16849.000000</td>\n",
       "      <td>1.684900e+04</td>\n",
       "      <td>16849.000000</td>\n",
       "      <td>16849.000000</td>\n",
       "      <td>16849.000000</td>\n",
       "      <td>16849.000000</td>\n",
       "      <td>1.684900e+04</td>\n",
       "      <td>1.684900e+04</td>\n",
       "      <td>1.684900e+04</td>\n",
       "      <td>16849.000000</td>\n",
       "    </tr>\n",
       "    <tr>\n",
       "      <th>mean</th>\n",
       "      <td>0.077097</td>\n",
       "      <td>1.078115e+05</td>\n",
       "      <td>71.273073</td>\n",
       "      <td>1.202445</td>\n",
       "      <td>98.660751</td>\n",
       "      <td>92.942596</td>\n",
       "      <td>5.682541e+04</td>\n",
       "      <td>9.482743e+05</td>\n",
       "      <td>1.582545e+05</td>\n",
       "      <td>712.502843</td>\n",
       "    </tr>\n",
       "    <tr>\n",
       "      <th>std</th>\n",
       "      <td>0.266753</td>\n",
       "      <td>1.988004e+05</td>\n",
       "      <td>32.946144</td>\n",
       "      <td>3.163821</td>\n",
       "      <td>6.808084</td>\n",
       "      <td>197.914407</td>\n",
       "      <td>2.775482e+05</td>\n",
       "      <td>3.512209e+06</td>\n",
       "      <td>1.889824e+07</td>\n",
       "      <td>5660.219681</td>\n",
       "    </tr>\n",
       "    <tr>\n",
       "      <th>min</th>\n",
       "      <td>0.000000</td>\n",
       "      <td>2.500000e+03</td>\n",
       "      <td>1.000000</td>\n",
       "      <td>0.000000</td>\n",
       "      <td>0.000000</td>\n",
       "      <td>0.500000</td>\n",
       "      <td>0.000000e+00</td>\n",
       "      <td>4.200000e+02</td>\n",
       "      <td>0.000000e+00</td>\n",
       "      <td>1.600000</td>\n",
       "    </tr>\n",
       "    <tr>\n",
       "      <th>25%</th>\n",
       "      <td>0.000000</td>\n",
       "      <td>3.994700e+04</td>\n",
       "      <td>53.000000</td>\n",
       "      <td>1.000000</td>\n",
       "      <td>100.000000</td>\n",
       "      <td>67.100000</td>\n",
       "      <td>1.074310e+04</td>\n",
       "      <td>1.906109e+05</td>\n",
       "      <td>1.842900e+03</td>\n",
       "      <td>214.300000</td>\n",
       "    </tr>\n",
       "    <tr>\n",
       "      <th>50%</th>\n",
       "      <td>0.000000</td>\n",
       "      <td>6.179800e+04</td>\n",
       "      <td>83.000000</td>\n",
       "      <td>1.000000</td>\n",
       "      <td>100.000000</td>\n",
       "      <td>84.400000</td>\n",
       "      <td>3.201040e+04</td>\n",
       "      <td>3.251359e+05</td>\n",
       "      <td>3.537500e+03</td>\n",
       "      <td>334.200000</td>\n",
       "    </tr>\n",
       "    <tr>\n",
       "      <th>75%</th>\n",
       "      <td>0.000000</td>\n",
       "      <td>1.079520e+05</td>\n",
       "      <td>94.000000</td>\n",
       "      <td>1.000000</td>\n",
       "      <td>100.000000</td>\n",
       "      <td>104.300000</td>\n",
       "      <td>5.468600e+04</td>\n",
       "      <td>6.960773e+05</td>\n",
       "      <td>6.332900e+03</td>\n",
       "      <td>568.700000</td>\n",
       "    </tr>\n",
       "    <tr>\n",
       "      <th>max</th>\n",
       "      <td>1.000000</td>\n",
       "      <td>8.942176e+06</td>\n",
       "      <td>626.000000</td>\n",
       "      <td>156.000000</td>\n",
       "      <td>100.000000</td>\n",
       "      <td>22222.400000</td>\n",
       "      <td>1.831619e+07</td>\n",
       "      <td>1.544950e+08</td>\n",
       "      <td>2.453004e+09</td>\n",
       "      <td>670083.200000</td>\n",
       "    </tr>\n",
       "  </tbody>\n",
       "</table>\n",
       "</div>"
      ],
      "text/plain": [
       "       cityBuilding          area        years   num_Buildings     occupancy  \\\n",
       "count  16849.000000  1.684900e+04  16849.000000   16849.000000  16849.000000   \n",
       "mean       0.077097  1.078115e+05     71.273073       1.202445     98.660751   \n",
       "std        0.266753  1.988004e+05     32.946144       3.163821      6.808084   \n",
       "min        0.000000  2.500000e+03      1.000000       0.000000      0.000000   \n",
       "25%        0.000000  3.994700e+04     53.000000       1.000000    100.000000   \n",
       "50%        0.000000  6.179800e+04     83.000000       1.000000    100.000000   \n",
       "75%        0.000000  1.079520e+05     94.000000       1.000000    100.000000   \n",
       "max        1.000000  8.942176e+06    626.000000     156.000000    100.000000   \n",
       "\n",
       "           site_EUI  wn_Site_n_Gas_Use  wn_Site_Electricity     water_Use  \\\n",
       "count  16849.000000       1.684900e+04         1.684900e+04  1.684900e+04   \n",
       "mean      92.942596       5.682541e+04         9.482743e+05  1.582545e+05   \n",
       "std      197.914407       2.775482e+05         3.512209e+06  1.889824e+07   \n",
       "min        0.500000       0.000000e+00         4.200000e+02  0.000000e+00   \n",
       "25%       67.100000       1.074310e+04         1.906109e+05  1.842900e+03   \n",
       "50%       84.400000       3.201040e+04         3.251359e+05  3.537500e+03   \n",
       "75%      104.300000       5.468600e+04         6.960773e+05  6.332900e+03   \n",
       "max    22222.400000       1.831619e+07         1.544950e+08  2.453004e+09   \n",
       "\n",
       "              target  \n",
       "count   16849.000000  \n",
       "mean      712.502843  \n",
       "std      5660.219681  \n",
       "min         1.600000  \n",
       "25%       214.300000  \n",
       "50%       334.200000  \n",
       "75%       568.700000  \n",
       "max    670083.200000  "
      ]
     },
     "execution_count": 4,
     "metadata": {},
     "output_type": "execute_result"
    }
   ],
   "source": [
    "df1.describe()\n"
   ]
  },
  {
   "cell_type": "markdown",
   "metadata": {},
   "source": [
    "defining X and Y"
   ]
  },
  {
   "cell_type": "code",
   "execution_count": 5,
   "metadata": {},
   "outputs": [],
   "source": [
    "y = df1['target']"
   ]
  },
  {
   "cell_type": "code",
   "execution_count": 6,
   "metadata": {},
   "outputs": [],
   "source": [
    "X = df1.copy()"
   ]
  },
  {
   "cell_type": "code",
   "execution_count": 7,
   "metadata": {},
   "outputs": [],
   "source": [
    "X.drop(['target'], axis=1, inplace=True)"
   ]
  },
  {
   "cell_type": "markdown",
   "metadata": {},
   "source": [
    "Now define a function to get the categorical variable for later One Hot Encoding."
   ]
  },
  {
   "cell_type": "code",
   "execution_count": 8,
   "metadata": {},
   "outputs": [],
   "source": [
    "def get_cols(df,col_type):\n",
    "    '''\n",
    "    Arguments :\n",
    "    df : The dataframe to process\n",
    "    col_type : \n",
    "          \n",
    "          no_num : to only get categorical columns\n",
    "              \n",
    "    '''\n",
    "    if (col_type == 'no_num'):\n",
    "        predictors = df.select_dtypes(include=['object'])\n",
    "    \n",
    "    else :\n",
    "        print('Error : choose type (no_num)')\n",
    "        return 0\n",
    "    cols_cat = []\n",
    "    for col in predictors.columns:\n",
    "        if not df[col].isnull().any():\n",
    "            cols_cat.append(col)\n",
    "    return cols_cat"
   ]
  },
  {
   "cell_type": "markdown",
   "metadata": {},
   "source": [
    "Getting our categorical column."
   ]
  },
  {
   "cell_type": "code",
   "execution_count": 9,
   "metadata": {},
   "outputs": [],
   "source": [
    "# getting type from X\n",
    "\n",
    "cat_cols = get_cols(X, 'no_num')"
   ]
  },
  {
   "cell_type": "markdown",
   "metadata": {},
   "source": [
    "Now, review some properties of the numerical features'"
   ]
  },
  {
   "cell_type": "code",
   "execution_count": 10,
   "metadata": {},
   "outputs": [
    {
     "data": {
      "image/png": "[encoded data removed]",
      "text/plain": [
       "<Figure size 864x720 with 9 Axes>"
      ]
     },
     "metadata": {
      "needs_background": "light"
     },
     "output_type": "display_data"
    }
   ],
   "source": [
    "# plot some histograms of the data\n",
    "\n",
    "X.hist(figsize = (12,10))\n",
    "plt.show()"
   ]
  },
  {
   "cell_type": "markdown",
   "metadata": {},
   "source": [
    "We can see there are outliers, but most of the data is very closely concentrated."
   ]
  },
  {
   "cell_type": "markdown",
   "metadata": {},
   "source": [
    "### Viewing data correlation"
   ]
  },
  {
   "cell_type": "code",
   "execution_count": 11,
   "metadata": {},
   "outputs": [
    {
     "data": {
      "image/png": "[encoded data removed]",
      "text/plain": [
       "<Figure size 720x720 with 2 Axes>"
      ]
     },
     "metadata": {
      "needs_background": "light"
     },
     "output_type": "display_data"
    }
   ],
   "source": [
    "# Using the original data to plot a correlation heat map\n",
    "\n",
    "colormap = df1.corr()\n",
    "fig = plt.figure(figsize = (10,10))\n",
    "\n",
    "sb.heatmap(colormap, vmax = .7, square = True)\n",
    "plt.show()"
   ]
  },
  {
   "cell_type": "markdown",
   "metadata": {},
   "source": [
    "As seen, Site Energy Use Intensity is highly correlated with GHG emissions (target).  \n",
    "Gross area and weather normalized Electricity usage are also highly correlated between them."
   ]
  },
  {
   "cell_type": "markdown",
   "metadata": {},
   "source": [
    "### Create a function for One Hot Encoding"
   ]
  },
  {
   "cell_type": "markdown",
   "metadata": {},
   "source": [
    "As type is a categorical variable refering to the use of the property, we need to encode it."
   ]
  },
  {
   "cell_type": "code",
   "execution_count": 12,
   "metadata": {},
   "outputs": [],
   "source": [
    "def oneHotEncode(df,colNames):\n",
    "    for col in colNames:\n",
    "        if( df[col].dtype == np.dtype('object')):\n",
    "            dummies = pd.get_dummies(df[col],prefix=col)\n",
    "            df = pd.concat([df,dummies],axis=1)\n",
    "\n",
    "            #drop the encoded column\n",
    "            df.drop([col],axis = 1 , inplace=True)\n",
    "    return df"
   ]
  },
  {
   "cell_type": "code",
   "execution_count": 14,
   "metadata": {},
   "outputs": [
    {
     "name": "stdout",
     "output_type": "stream",
     "text": [
      "There were 10 columns before encoding categorical features\n",
      "There are 70 columns after encoding categorical features\n"
     ]
    }
   ],
   "source": [
    "print('There were {} columns before encoding categorical features'.format(X.shape[1]))\n",
    "Xext = oneHotEncode(X, cat_cols)\n",
    "print('There are {} columns after encoding categorical features'.format(Xext.shape[1]))"
   ]
  },
  {
   "cell_type": "code",
   "execution_count": 15,
   "metadata": {},
   "outputs": [
    {
     "data": {
      "text/html": [
       "<div>\n",
       "<style scoped>\n",
       "    .dataframe tbody tr th:only-of-type {\n",
       "        vertical-align: middle;\n",
       "    }\n",
       "\n",
       "    .dataframe tbody tr th {\n",
       "        vertical-align: top;\n",
       "    }\n",
       "\n",
       "    .dataframe thead th {\n",
       "        text-align: right;\n",
       "    }\n",
       "</style>\n",
       "<table border=\"1\" class=\"dataframe\">\n",
       "  <thead>\n",
       "    <tr style=\"text-align: right;\">\n",
       "      <th></th>\n",
       "      <th>cityBuilding</th>\n",
       "      <th>area</th>\n",
       "      <th>years</th>\n",
       "      <th>num_Buildings</th>\n",
       "      <th>occupancy</th>\n",
       "      <th>site_EUI</th>\n",
       "      <th>wn_Site_n_Gas_Use</th>\n",
       "      <th>wn_Site_Electricity</th>\n",
       "      <th>water_Use</th>\n",
       "      <th>type_0n-Refrigerated Warehouse</th>\n",
       "      <th>...</th>\n",
       "      <th>type_Strip Mall</th>\n",
       "      <th>type_Supermarket/Grocery Store</th>\n",
       "      <th>type_Transportation Terminal/Station</th>\n",
       "      <th>type_Urgent Care/Clinic/Other Outpatient</th>\n",
       "      <th>type_Veterinary Office</th>\n",
       "      <th>type_Vocational School</th>\n",
       "      <th>type_Wastewater Treatment Plant</th>\n",
       "      <th>type_Wholesale Club/Supercenter</th>\n",
       "      <th>type_Worship Facility</th>\n",
       "      <th>type_Zoo</th>\n",
       "    </tr>\n",
       "  </thead>\n",
       "  <tbody>\n",
       "    <tr>\n",
       "      <th>0</th>\n",
       "      <td>0</td>\n",
       "      <td>3813938</td>\n",
       "      <td>50</td>\n",
       "      <td>5</td>\n",
       "      <td>100</td>\n",
       "      <td>247.4</td>\n",
       "      <td>9479229.3</td>\n",
       "      <td>95603180.0</td>\n",
       "      <td>285.3</td>\n",
       "      <td>0</td>\n",
       "      <td>...</td>\n",
       "      <td>0</td>\n",
       "      <td>0</td>\n",
       "      <td>0</td>\n",
       "      <td>0</td>\n",
       "      <td>0</td>\n",
       "      <td>0</td>\n",
       "      <td>0</td>\n",
       "      <td>0</td>\n",
       "      <td>0</td>\n",
       "      <td>0</td>\n",
       "    </tr>\n",
       "    <tr>\n",
       "      <th>1</th>\n",
       "      <td>0</td>\n",
       "      <td>308789</td>\n",
       "      <td>28</td>\n",
       "      <td>1</td>\n",
       "      <td>100</td>\n",
       "      <td>270.3</td>\n",
       "      <td>500210.8</td>\n",
       "      <td>9685688.9</td>\n",
       "      <td>24665.5</td>\n",
       "      <td>0</td>\n",
       "      <td>...</td>\n",
       "      <td>0</td>\n",
       "      <td>0</td>\n",
       "      <td>0</td>\n",
       "      <td>0</td>\n",
       "      <td>0</td>\n",
       "      <td>0</td>\n",
       "      <td>0</td>\n",
       "      <td>0</td>\n",
       "      <td>0</td>\n",
       "      <td>0</td>\n",
       "    </tr>\n",
       "    <tr>\n",
       "      <th>2</th>\n",
       "      <td>0</td>\n",
       "      <td>1272119</td>\n",
       "      <td>52</td>\n",
       "      <td>1</td>\n",
       "      <td>90</td>\n",
       "      <td>105.1</td>\n",
       "      <td>6087.4</td>\n",
       "      <td>19883052.5</td>\n",
       "      <td>17994.7</td>\n",
       "      <td>0</td>\n",
       "      <td>...</td>\n",
       "      <td>0</td>\n",
       "      <td>0</td>\n",
       "      <td>0</td>\n",
       "      <td>0</td>\n",
       "      <td>0</td>\n",
       "      <td>0</td>\n",
       "      <td>0</td>\n",
       "      <td>0</td>\n",
       "      <td>0</td>\n",
       "      <td>0</td>\n",
       "    </tr>\n",
       "    <tr>\n",
       "      <th>3</th>\n",
       "      <td>0</td>\n",
       "      <td>885474</td>\n",
       "      <td>51</td>\n",
       "      <td>1</td>\n",
       "      <td>60</td>\n",
       "      <td>69.6</td>\n",
       "      <td>0.0</td>\n",
       "      <td>10320537.5</td>\n",
       "      <td>4235.5</td>\n",
       "      <td>0</td>\n",
       "      <td>...</td>\n",
       "      <td>0</td>\n",
       "      <td>0</td>\n",
       "      <td>0</td>\n",
       "      <td>0</td>\n",
       "      <td>0</td>\n",
       "      <td>0</td>\n",
       "      <td>0</td>\n",
       "      <td>0</td>\n",
       "      <td>0</td>\n",
       "      <td>0</td>\n",
       "    </tr>\n",
       "    <tr>\n",
       "      <th>4</th>\n",
       "      <td>0</td>\n",
       "      <td>1852980</td>\n",
       "      <td>33</td>\n",
       "      <td>1</td>\n",
       "      <td>100</td>\n",
       "      <td>50.9</td>\n",
       "      <td>353751.0</td>\n",
       "      <td>16214482.6</td>\n",
       "      <td>21334.0</td>\n",
       "      <td>0</td>\n",
       "      <td>...</td>\n",
       "      <td>0</td>\n",
       "      <td>0</td>\n",
       "      <td>0</td>\n",
       "      <td>0</td>\n",
       "      <td>0</td>\n",
       "      <td>0</td>\n",
       "      <td>0</td>\n",
       "      <td>0</td>\n",
       "      <td>0</td>\n",
       "      <td>0</td>\n",
       "    </tr>\n",
       "  </tbody>\n",
       "</table>\n",
       "<p>5 rows × 70 columns</p>\n",
       "</div>"
      ],
      "text/plain": [
       "   cityBuilding     area  years   num_Buildings  occupancy  site_EUI  \\\n",
       "0             0  3813938      50              5        100     247.4   \n",
       "1             0   308789      28              1        100     270.3   \n",
       "2             0  1272119      52              1         90     105.1   \n",
       "3             0   885474      51              1         60      69.6   \n",
       "4             0  1852980      33              1        100      50.9   \n",
       "\n",
       "   wn_Site_n_Gas_Use  wn_Site_Electricity  water_Use  \\\n",
       "0          9479229.3           95603180.0      285.3   \n",
       "1           500210.8            9685688.9    24665.5   \n",
       "2             6087.4           19883052.5    17994.7   \n",
       "3                0.0           10320537.5     4235.5   \n",
       "4           353751.0           16214482.6    21334.0   \n",
       "\n",
       "   type_0n-Refrigerated Warehouse  ...  type_Strip Mall  \\\n",
       "0                               0  ...                0   \n",
       "1                               0  ...                0   \n",
       "2                               0  ...                0   \n",
       "3                               0  ...                0   \n",
       "4                               0  ...                0   \n",
       "\n",
       "   type_Supermarket/Grocery Store  type_Transportation Terminal/Station  \\\n",
       "0                               0                                     0   \n",
       "1                               0                                     0   \n",
       "2                               0                                     0   \n",
       "3                               0                                     0   \n",
       "4                               0                                     0   \n",
       "\n",
       "   type_Urgent Care/Clinic/Other Outpatient  type_Veterinary Office  \\\n",
       "0                                         0                       0   \n",
       "1                                         0                       0   \n",
       "2                                         0                       0   \n",
       "3                                         0                       0   \n",
       "4                                         0                       0   \n",
       "\n",
       "   type_Vocational School  type_Wastewater Treatment Plant  \\\n",
       "0                       0                                0   \n",
       "1                       0                                0   \n",
       "2                       0                                0   \n",
       "3                       0                                0   \n",
       "4                       0                                0   \n",
       "\n",
       "   type_Wholesale Club/Supercenter  type_Worship Facility  type_Zoo  \n",
       "0                                0                      0         0  \n",
       "1                                0                      0         0  \n",
       "2                                0                      0         0  \n",
       "3                                0                      0         0  \n",
       "4                                0                      0         0  \n",
       "\n",
       "[5 rows x 70 columns]"
      ]
     },
     "execution_count": 15,
     "metadata": {},
     "output_type": "execute_result"
    }
   ],
   "source": [
    "Xext.head()"
   ]
  },
  {
   "cell_type": "markdown",
   "metadata": {},
   "source": [
    "## 2- Create an initial deep neural network"
   ]
  },
  {
   "cell_type": "markdown",
   "metadata": {},
   "source": [
    "Spliting the data between train and test sets (80 / 20)"
   ]
  },
  {
   "cell_type": "code",
   "execution_count": 16,
   "metadata": {},
   "outputs": [
    {
     "name": "stdout",
     "output_type": "stream",
     "text": [
      "Train set: (13479, 70) (13479,)\n",
      "Test set: (3370, 70) (3370,)\n"
     ]
    }
   ],
   "source": [
    "from sklearn.model_selection import train_test_split\n",
    "X_train, X_test, y_train, y_test = train_test_split( Xext, y, test_size=0.2, random_state=8)\n",
    "print ('Train set:', X_train.shape,  y_train.shape)\n",
    "print ('Test set:', X_test.shape,  y_test.shape)\n"
   ]
  },
  {
   "cell_type": "markdown",
   "metadata": {},
   "source": [
    "The initial NN will have three layers: input,middle,output.  \n",
    "70 -> 70 -> 1"
   ]
  },
  {
   "cell_type": "code",
   "execution_count": 17,
   "metadata": {},
   "outputs": [],
   "source": [
    "model1 = Sequential()\n",
    "\n",
    "# input layer, with 70 neurons, the same as initial features\n",
    "model1.add(Dense(70, kernel_initializer='normal',input_dim = X_train.shape[1], activation='relu'))\n",
    "\n",
    "# layer 1 with 140 neurons, double the input\n",
    "model1.add(Dense(140, kernel_initializer='normal',activation='relu'))\n",
    "\n",
    "#output layer\n",
    "model1.add(Dense(1, kernel_initializer='normal',activation='linear'))\n"
   ]
  },
  {
   "cell_type": "markdown",
   "metadata": {},
   "source": [
    "Use Mean Absolute Error ('MAE') to measure the model.  \n",
    "Optimizer = adam"
   ]
  },
  {
   "cell_type": "code",
   "execution_count": 19,
   "metadata": {},
   "outputs": [
    {
     "name": "stdout",
     "output_type": "stream",
     "text": [
      "_________________________________________________________________\n",
      "Layer (type)                 Output Shape              Param #   \n",
      "=================================================================\n",
      "dense_1 (Dense)              (None, 70)                4970      \n",
      "_________________________________________________________________\n",
      "dense_2 (Dense)              (None, 140)               9940      \n",
      "_________________________________________________________________\n",
      "dense_3 (Dense)              (None, 1)                 141       \n",
      "=================================================================\n",
      "Total params: 15,051\n",
      "Trainable params: 15,051\n",
      "Non-trainable params: 0\n",
      "_________________________________________________________________\n"
     ]
    }
   ],
   "source": [
    "model1.compile(loss='mean_absolute_error', optimizer='adam', metrics=['mean_absolute_error'])\n",
    "model1.summary()"
   ]
  },
  {
   "cell_type": "markdown",
   "metadata": {},
   "source": [
    "Create a checkpoint in order to later load best weights for the model"
   ]
  },
  {
   "cell_type": "code",
   "execution_count": 20,
   "metadata": {},
   "outputs": [],
   "source": [
    "checkpoint_name = 'Weights-{epoch:03d}--{val_loss:.5f}.hdf5' \n",
    "checkpoint = ModelCheckpoint(checkpoint_name, monitor='val_loss', verbose = 1, save_best_only = True, mode ='auto')\n",
    "callbacks_list = [checkpoint]"
   ]
  },
  {
   "cell_type": "markdown",
   "metadata": {},
   "source": [
    "## 3- Train the DNN"
   ]
  },
  {
   "cell_type": "code",
   "execution_count": 21,
   "metadata": {},
   "outputs": [
    {
     "name": "stdout",
     "output_type": "stream",
     "text": [
      "Train on 10783 samples, validate on 2696 samples\n",
      "Epoch 1/50\n",
      "10783/10783 [==============================] - 7s 694us/step - loss: 793.7792 - mean_absolute_error: 793.7792 - val_loss: 363.4840 - val_mean_absolute_error: 363.4840\n",
      "\n",
      "Epoch 00001: val_loss improved from inf to 363.48397, saving model to Weights-001--363.48397.hdf5\n",
      "Epoch 2/50\n",
      "10783/10783 [==============================] - 7s 645us/step - loss: 4342.8075 - mean_absolute_error: 4342.8075 - val_loss: 362.0230 - val_mean_absolute_error: 362.0230\n",
      "\n",
      "Epoch 00002: val_loss improved from 363.48397 to 362.02299, saving model to Weights-002--362.02299.hdf5\n",
      "Epoch 3/50\n",
      "10783/10783 [==============================] - 6s 534us/step - loss: 1103.6983 - mean_absolute_error: 1103.6983 - val_loss: 126.2778 - val_mean_absolute_error: 126.2778\n",
      "\n",
      "Epoch 00003: val_loss improved from 362.02299 to 126.27784, saving model to Weights-003--126.27784.hdf5\n",
      "Epoch 4/50\n",
      "10783/10783 [==============================] - 6s 559us/step - loss: 2556.1100 - mean_absolute_error: 2556.1100 - val_loss: 169.7001 - val_mean_absolute_error: 169.7001\n",
      "\n",
      "Epoch 00004: val_loss did not improve from 126.27784\n",
      "Epoch 5/50\n",
      "10783/10783 [==============================] - 6s 541us/step - loss: 3124.0531 - mean_absolute_error: 3124.0531 - val_loss: 219.9535 - val_mean_absolute_error: 219.9535\n",
      "\n",
      "Epoch 00005: val_loss did not improve from 126.27784\n",
      "Epoch 6/50\n",
      "10783/10783 [==============================] - 6s 560us/step - loss: 604.4943 - mean_absolute_error: 604.4943 - val_loss: 175.3820 - val_mean_absolute_error: 175.3820\n",
      "\n",
      "Epoch 00006: val_loss did not improve from 126.27784\n",
      "Epoch 7/50\n",
      "10783/10783 [==============================] - 6s 575us/step - loss: 465.3305 - mean_absolute_error: 465.3305 - val_loss: 179.6525 - val_mean_absolute_error: 179.6525\n",
      "\n",
      "Epoch 00007: val_loss did not improve from 126.27784\n",
      "Epoch 8/50\n",
      "10783/10783 [==============================] - 6s 538us/step - loss: 12799.7805 - mean_absolute_error: 12799.7805 - val_loss: 98.4533 - val_mean_absolute_error: 98.4533\n",
      "\n",
      "Epoch 00008: val_loss improved from 126.27784 to 98.45325, saving model to Weights-008--98.45325.hdf5\n",
      "Epoch 9/50\n",
      "10783/10783 [==============================] - 6s 565us/step - loss: 249.0970 - mean_absolute_error: 249.0970 - val_loss: 126.7613 - val_mean_absolute_error: 126.7613\n",
      "\n",
      "Epoch 00009: val_loss did not improve from 98.45325\n",
      "Epoch 10/50\n",
      "10783/10783 [==============================] - 6s 596us/step - loss: 4898.4322 - mean_absolute_error: 4898.4322 - val_loss: 109.7909 - val_mean_absolute_error: 109.7909\n",
      "\n",
      "Epoch 00010: val_loss did not improve from 98.45325\n",
      "Epoch 11/50\n",
      "10783/10783 [==============================] - 6s 563us/step - loss: 824.7578 - mean_absolute_error: 824.7578 - val_loss: 93.6343 - val_mean_absolute_error: 93.6343\n",
      "\n",
      "Epoch 00011: val_loss improved from 98.45325 to 93.63431, saving model to Weights-011--93.63431.hdf5\n",
      "Epoch 12/50\n",
      "10783/10783 [==============================] - 8s 715us/step - loss: 2087.7529 - mean_absolute_error: 2087.7529 - val_loss: 81.7667 - val_mean_absolute_error: 81.7667\n",
      "\n",
      "Epoch 00012: val_loss improved from 93.63431 to 81.76674, saving model to Weights-012--81.76674.hdf5\n",
      "Epoch 13/50\n",
      "10783/10783 [==============================] - 6s 549us/step - loss: 207.8918 - mean_absolute_error: 207.8918 - val_loss: 97.4670 - val_mean_absolute_error: 97.4670\n",
      "\n",
      "Epoch 00013: val_loss did not improve from 81.76674\n",
      "Epoch 14/50\n",
      "10783/10783 [==============================] - 7s 622us/step - loss: 839.7727 - mean_absolute_error: 839.7727 - val_loss: 214.7654 - val_mean_absolute_error: 214.7654\n",
      "\n",
      "Epoch 00014: val_loss did not improve from 81.76674\n",
      "Epoch 15/50\n",
      "10783/10783 [==============================] - 6s 549us/step - loss: 266.2588 - mean_absolute_error: 266.2588 - val_loss: 96.1638 - val_mean_absolute_error: 96.1638\n",
      "\n",
      "Epoch 00015: val_loss did not improve from 81.76674\n",
      "Epoch 16/50\n",
      "10783/10783 [==============================] - 6s 572us/step - loss: 617.4636 - mean_absolute_error: 617.4636 - val_loss: 85.2899 - val_mean_absolute_error: 85.2899\n",
      "\n",
      "Epoch 00016: val_loss did not improve from 81.76674\n",
      "Epoch 17/50\n",
      "10783/10783 [==============================] - 6s 555us/step - loss: 1038.7368 - mean_absolute_error: 1038.7368 - val_loss: 80.3892 - val_mean_absolute_error: 80.3892\n",
      "\n",
      "Epoch 00017: val_loss improved from 81.76674 to 80.38915, saving model to Weights-017--80.38915.hdf5\n",
      "Epoch 18/50\n",
      "10783/10783 [==============================] - 6s 584us/step - loss: 520.5259 - mean_absolute_error: 520.5259 - val_loss: 84.8225 - val_mean_absolute_error: 84.8225\n",
      "\n",
      "Epoch 00018: val_loss did not improve from 80.38915\n",
      "Epoch 19/50\n",
      "10783/10783 [==============================] - 6s 556us/step - loss: 223.8946 - mean_absolute_error: 223.8946 - val_loss: 235.1695 - val_mean_absolute_error: 235.16952s - los\n",
      "\n",
      "Epoch 00019: val_loss did not improve from 80.38915\n",
      "Epoch 20/50\n",
      "10783/10783 [==============================] - 6s 599us/step - loss: 456.4204 - mean_absolute_error: 456.4204 - val_loss: 79.1052 - val_mean_absolute_error: 79.1052\n",
      "\n",
      "Epoch 00020: val_loss improved from 80.38915 to 79.10523, saving model to Weights-020--79.10523.hdf5\n",
      "Epoch 21/50\n",
      "10783/10783 [==============================] - 7s 617us/step - loss: 182.7852 - mean_absolute_error: 182.7852 - val_loss: 80.7390 - val_mean_absolute_error: 80.7390\n",
      "\n",
      "Epoch 00021: val_loss did not improve from 79.10523\n",
      "Epoch 22/50\n",
      "10783/10783 [==============================] - 7s 675us/step - loss: 201.8892 - mean_absolute_error: 201.8892 - val_loss: 134.0767 - val_mean_absolute_error: 134.0767\n",
      "\n",
      "Epoch 00022: val_loss did not improve from 79.10523\n",
      "Epoch 23/50\n",
      "10783/10783 [==============================] - 6s 519us/step - loss: 319.6767 - mean_absolute_error: 319.6767 - val_loss: 102.3185 - val_mean_absolute_error: 102.3185\n",
      "\n",
      "Epoch 00023: val_loss did not improve from 79.10523\n",
      "Epoch 24/50\n",
      "10783/10783 [==============================] - 6s 566us/step - loss: 695.2785 - mean_absolute_error: 695.2785 - val_loss: 108.4133 - val_mean_absolute_error: 108.4133\n",
      "\n",
      "Epoch 00024: val_loss did not improve from 79.10523\n",
      "Epoch 25/50\n",
      "10783/10783 [==============================] - 6s 568us/step - loss: 218.3892 - mean_absolute_error: 218.3892 - val_loss: 87.0331 - val_mean_absolute_error: 87.0331s - \n",
      "\n",
      "Epoch 00025: val_loss did not improve from 79.10523\n",
      "Epoch 26/50\n",
      "10783/10783 [==============================] - 7s 606us/step - loss: 339.0285 - mean_absolute_error: 339.0285 - val_loss: 78.1597 - val_mean_absolute_error: 78.1597\n",
      "\n",
      "Epoch 00026: val_loss improved from 79.10523 to 78.15966, saving model to Weights-026--78.15966.hdf5\n",
      "Epoch 27/50\n",
      "10783/10783 [==============================] - 6s 585us/step - loss: 560.3149 - mean_absolute_error: 560.3149 - val_loss: 77.0597 - val_mean_absolute_error: 77.0597\n",
      "\n",
      "Epoch 00027: val_loss improved from 78.15966 to 77.05974, saving model to Weights-027--77.05974.hdf5\n",
      "Epoch 28/50\n",
      "10783/10783 [==============================] - 6s 541us/step - loss: 339.4828 - mean_absolute_error: 339.4828 - val_loss: 101.3803 - val_mean_absolute_error: 101.3803\n",
      "\n",
      "Epoch 00028: val_loss did not improve from 77.05974\n",
      "Epoch 29/50\n",
      "10783/10783 [==============================] - 6s 547us/step - loss: 195.8737 - mean_absolute_error: 195.8737 - val_loss: 100.0346 - val_mean_absolute_error: 100.0346\n",
      "\n",
      "Epoch 00029: val_loss did not improve from 77.05974\n",
      "Epoch 30/50\n",
      "10783/10783 [==============================] - 6s 564us/step - loss: 150.5660 - mean_absolute_error: 150.5660 - val_loss: 99.8210 - val_mean_absolute_error: 99.8210\n",
      "\n",
      "Epoch 00030: val_loss did not improve from 77.05974\n",
      "Epoch 31/50\n",
      "10783/10783 [==============================] - 6s 571us/step - loss: 150.2581 - mean_absolute_error: 150.2581 - val_loss: 74.9113 - val_mean_absolute_error: 74.9113\n",
      "\n",
      "Epoch 00031: val_loss improved from 77.05974 to 74.91132, saving model to Weights-031--74.91132.hdf5\n",
      "Epoch 32/50\n",
      "10783/10783 [==============================] - 7s 672us/step - loss: 152.7289 - mean_absolute_error: 152.7289 - val_loss: 81.2095 - val_mean_absolute_error: 81.2095\n",
      "\n",
      "Epoch 00032: val_loss did not improve from 74.91132\n",
      "Epoch 33/50\n",
      "10783/10783 [==============================] - 6s 526us/step - loss: 150.3848 - mean_absolute_error: 150.3848 - val_loss: 86.0739 - val_mean_absolute_error: 86.0739\n",
      "\n",
      "Epoch 00033: val_loss did not improve from 74.91132\n",
      "Epoch 34/50\n",
      "10783/10783 [==============================] - 6s 601us/step - loss: 147.3728 - mean_absolute_error: 147.3728 - val_loss: 81.9549 - val_mean_absolute_error: 81.9549mean_absolute_error: 14\n",
      "\n",
      "Epoch 00034: val_loss did not improve from 74.91132\n",
      "Epoch 35/50\n",
      "10783/10783 [==============================] - 6s 553us/step - loss: 148.1051 - mean_absolute_error: 148.1051 - val_loss: 79.3847 - val_mean_absolute_error: 79.3847\n",
      "\n",
      "Epoch 00035: val_loss did not improve from 74.91132\n",
      "Epoch 36/50\n",
      "10783/10783 [==============================] - 6s 532us/step - loss: 149.7482 - mean_absolute_error: 149.7482 - val_loss: 88.1936 - val_mean_absolute_error: 88.1936\n",
      "\n",
      "Epoch 00036: val_loss did not improve from 74.91132\n",
      "Epoch 37/50\n",
      "10783/10783 [==============================] - 7s 603us/step - loss: 143.4924 - mean_absolute_error: 143.4924 - val_loss: 76.9788 - val_mean_absolute_error: 76.9788\n",
      "\n",
      "Epoch 00037: val_loss did not improve from 74.91132\n",
      "Epoch 38/50\n",
      "10783/10783 [==============================] - 6s 549us/step - loss: 149.1949 - mean_absolute_error: 149.1949 - val_loss: 75.6447 - val_mean_absolute_error: 75.6447\n",
      "\n",
      "Epoch 00038: val_loss did not improve from 74.91132\n",
      "Epoch 39/50\n",
      "10783/10783 [==============================] - 6s 575us/step - loss: 152.4831 - mean_absolute_error: 152.4831 - val_loss: 72.9334 - val_mean_absolute_error: 72.9334\n",
      "\n",
      "Epoch 00039: val_loss improved from 74.91132 to 72.93339, saving model to Weights-039--72.93339.hdf5\n",
      "Epoch 40/50\n",
      "10783/10783 [==============================] - 6s 584us/step - loss: 259.2734 - mean_absolute_error: 259.2734 - val_loss: 90.4040 - val_mean_absolute_error: 90.4040\n",
      "\n",
      "Epoch 00040: val_loss did not improve from 72.93339\n",
      "Epoch 41/50\n",
      "10783/10783 [==============================] - 6s 564us/step - loss: 306.5745 - mean_absolute_error: 306.5745 - val_loss: 104.1897 - val_mean_absolute_error: 104.1897\n",
      "\n",
      "Epoch 00041: val_loss did not improve from 72.93339\n",
      "Epoch 42/50\n",
      "10783/10783 [==============================] - 6s 576us/step - loss: 148.0679 - mean_absolute_error: 148.0679 - val_loss: 96.6250 - val_mean_absolute_error: 96.6250\n",
      "\n",
      "Epoch 00042: val_loss did not improve from 72.93339\n",
      "Epoch 43/50\n",
      "10783/10783 [==============================] - 8s 729us/step - loss: 150.2467 - mean_absolute_error: 150.2467 - val_loss: 79.5137 - val_mean_absolute_error: 79.5137\n",
      "\n",
      "Epoch 00043: val_loss did not improve from 72.93339\n",
      "Epoch 44/50\n",
      "10783/10783 [==============================] - 6s 557us/step - loss: 146.1333 - mean_absolute_error: 146.1333 - val_loss: 101.7842 - val_mean_absolute_error: 101.7842\n",
      "\n",
      "Epoch 00044: val_loss did not improve from 72.93339\n",
      "Epoch 45/50\n",
      "10783/10783 [==============================] - 6s 600us/step - loss: 149.8920 - mean_absolute_error: 149.8920 - val_loss: 72.2281 - val_mean_absolute_error: 72.2281\n",
      "\n",
      "Epoch 00045: val_loss improved from 72.93339 to 72.22808, saving model to Weights-045--72.22808.hdf5\n",
      "Epoch 46/50\n",
      "10783/10783 [==============================] - 6s 524us/step - loss: 146.3633 - mean_absolute_error: 146.3633 - val_loss: 75.5486 - val_mean_absolute_error: 75.5486\n",
      "\n",
      "Epoch 00046: val_loss did not improve from 72.22808\n",
      "Epoch 47/50\n",
      "10783/10783 [==============================] - 6s 571us/step - loss: 147.2236 - mean_absolute_error: 147.2236 - val_loss: 68.0758 - val_mean_absolute_error: 68.0758\n",
      "\n",
      "Epoch 00047: val_loss improved from 72.22808 to 68.07584, saving model to Weights-047--68.07584.hdf5\n",
      "Epoch 48/50\n",
      "10783/10783 [==============================] - 6s 573us/step - loss: 146.4756 - mean_absolute_error: 146.4756 - val_loss: 96.8031 - val_mean_absolute_error: 96.8031\n",
      "\n",
      "Epoch 00048: val_loss did not improve from 68.07584\n",
      "Epoch 49/50\n",
      "10783/10783 [==============================] - 6s 590us/step - loss: 145.9087 - mean_absolute_error: 145.9087 - val_loss: 73.2292 - val_mean_absolute_error: 73.2292\n",
      "\n",
      "Epoch 00049: val_loss did not improve from 68.07584\n",
      "Epoch 50/50\n",
      "10783/10783 [==============================] - 6s 540us/step - loss: 145.1546 - mean_absolute_error: 145.1546 - val_loss: 72.5936 - val_mean_absolute_error: 72.5936\n",
      "\n",
      "Epoch 00050: val_loss did not improve from 68.07584\n"
     ]
    },
    {
     "data": {
      "text/plain": [
       "<keras.callbacks.History at 0x7fb340f95eb8>"
      ]
     },
     "execution_count": 21,
     "metadata": {},
     "output_type": "execute_result"
    }
   ],
   "source": [
    "model1.fit(X_train, y_train, epochs=50, batch_size=32, validation_split = 0.2, callbacks=callbacks_list)"
   ]
  },
  {
   "cell_type": "markdown",
   "metadata": {},
   "source": [
    "The best value for the model was 68.07584"
   ]
  },
  {
   "cell_type": "code",
   "execution_count": 22,
   "metadata": {},
   "outputs": [],
   "source": [
    "# Load weights file of the best model :\n",
    "weights_file = 'Weights-047--68.07584.hdf5' # choose the best checkpoint \n",
    "model1.load_weights(weights_file) # load it\n",
    "model1.compile(loss='mean_absolute_error', optimizer='adam', metrics=['mean_absolute_error'])"
   ]
  },
  {
   "cell_type": "markdown",
   "metadata": {},
   "source": [
    "## 4- Test the DNN"
   ]
  },
  {
   "cell_type": "code",
   "execution_count": 23,
   "metadata": {},
   "outputs": [],
   "source": [
    "predict_model1 = model1.predict(X_test)"
   ]
  },
  {
   "cell_type": "code",
   "execution_count": 24,
   "metadata": {},
   "outputs": [
    {
     "data": {
      "text/plain": [
       "array([[ 352.01163],\n",
       "       [ 322.73953],\n",
       "       [ 348.5625 ],\n",
       "       ...,\n",
       "       [ 270.96872],\n",
       "       [ 308.71228],\n",
       "       [2431.8818 ]], dtype=float32)"
      ]
     },
     "execution_count": 24,
     "metadata": {},
     "output_type": "execute_result"
    }
   ],
   "source": [
    "predict_model1"
   ]
  },
  {
   "cell_type": "markdown",
   "metadata": {},
   "source": [
    "  "
   ]
  },
  {
   "cell_type": "markdown",
   "metadata": {},
   "source": [
    "## 5- Create a second DNN"
   ]
  },
  {
   "cell_type": "markdown",
   "metadata": {},
   "source": [
    "We now define a second DNN with two additional layes, and normalizing the training and test data."
   ]
  },
  {
   "cell_type": "code",
   "execution_count": 25,
   "metadata": {},
   "outputs": [],
   "source": [
    "# normalizing training data\n",
    "\n",
    "X_train= preprocessing.StandardScaler().fit(X_train).transform(X_train)"
   ]
  },
  {
   "cell_type": "code",
   "execution_count": 26,
   "metadata": {},
   "outputs": [],
   "source": [
    "# normalizing test data\n",
    "\n",
    "X_test= preprocessing.StandardScaler().fit(X_test).transform(X_test)"
   ]
  },
  {
   "cell_type": "markdown",
   "metadata": {},
   "source": [
    "New layout:  70 -> 210 -> 210 -> 210 -> 1"
   ]
  },
  {
   "cell_type": "code",
   "execution_count": 27,
   "metadata": {},
   "outputs": [],
   "source": [
    "model2 = Sequential()\n",
    "\n",
    "# input layer, with 70 neurons, the same as initial features\n",
    "model2.add(Dense(70, kernel_initializer='normal',input_dim = X_train.shape[1], activation='relu'))\n",
    "\n",
    "# layer 1, 2 and 3 with 210 neurons, triple the input\n",
    "model2.add(Dense(210, kernel_initializer='normal',activation='relu'))\n",
    "model2.add(Dense(210, kernel_initializer='normal',activation='relu'))\n",
    "model2.add(Dense(210, kernel_initializer='normal',activation='relu'))\n",
    "\n",
    "#output layer\n",
    "model2.add(Dense(1, kernel_initializer='normal',activation='linear'))\n"
   ]
  },
  {
   "cell_type": "code",
   "execution_count": 28,
   "metadata": {},
   "outputs": [
    {
     "name": "stdout",
     "output_type": "stream",
     "text": [
      "_________________________________________________________________\n",
      "Layer (type)                 Output Shape              Param #   \n",
      "=================================================================\n",
      "dense_4 (Dense)              (None, 70)                4970      \n",
      "_________________________________________________________________\n",
      "dense_5 (Dense)              (None, 210)               14910     \n",
      "_________________________________________________________________\n",
      "dense_6 (Dense)              (None, 210)               44310     \n",
      "_________________________________________________________________\n",
      "dense_7 (Dense)              (None, 210)               44310     \n",
      "_________________________________________________________________\n",
      "dense_8 (Dense)              (None, 1)                 211       \n",
      "=================================================================\n",
      "Total params: 108,711\n",
      "Trainable params: 108,711\n",
      "Non-trainable params: 0\n",
      "_________________________________________________________________\n"
     ]
    }
   ],
   "source": [
    "#Using MAE to evaluate model2\n",
    "\n",
    "model2.compile(loss='mean_absolute_error', optimizer='adam', metrics=['mean_absolute_error'])\n",
    "model2.summary()\n"
   ]
  },
  {
   "cell_type": "markdown",
   "metadata": {},
   "source": [
    "Create a checkpoint in order to later load best weights for the model"
   ]
  },
  {
   "cell_type": "code",
   "execution_count": 29,
   "metadata": {},
   "outputs": [],
   "source": [
    "checkpoint_name = 'Weights2-{epoch:03d}--{val_loss:.5f}.hdf5' \n",
    "checkpoint = ModelCheckpoint(checkpoint_name, monitor='val_loss', verbose = 1, save_best_only = True, mode ='auto')\n",
    "callbacks_list = [checkpoint]"
   ]
  },
  {
   "cell_type": "markdown",
   "metadata": {},
   "source": [
    "## 6- Train and test the sDNN"
   ]
  },
  {
   "cell_type": "code",
   "execution_count": 30,
   "metadata": {},
   "outputs": [
    {
     "name": "stdout",
     "output_type": "stream",
     "text": [
      "Train on 10783 samples, validate on 2696 samples\n",
      "Epoch 1/50\n",
      "10783/10783 [==============================] - 14s 1ms/step - loss: 323.6235 - mean_absolute_error: 323.6235 - val_loss: 152.4030 - val_mean_absolute_error: 152.4030\n",
      "\n",
      "Epoch 00001: val_loss improved from inf to 152.40299, saving model to Weights2-001--152.40299.hdf5\n",
      "Epoch 2/50\n",
      "10783/10783 [==============================] - 12s 1ms/step - loss: 177.3923 - mean_absolute_error: 177.3923 - val_loss: 141.3937 - val_mean_absolute_error: 141.3937\n",
      "\n",
      "Epoch 00002: val_loss improved from 152.40299 to 141.39368, saving model to Weights2-002--141.39368.hdf5\n",
      "Epoch 3/50\n",
      "10783/10783 [==============================] - 12s 1ms/step - loss: 164.4758 - mean_absolute_error: 164.4758 - val_loss: 133.8578 - val_mean_absolute_error: 133.85785s - loss: 217.9188 - mean_abs -\n",
      "\n",
      "Epoch 00003: val_loss improved from 141.39368 to 133.85784, saving model to Weights2-003--133.85784.hdf5\n",
      "Epoch 4/50\n",
      "10783/10783 [==============================] - 13s 1ms/step - loss: 157.7433 - mean_absolute_error: 157.7433 - val_loss: 127.0499 - val_mean_absolute_error: 127.0499\n",
      "\n",
      "Epoch 00004: val_loss improved from 133.85784 to 127.04986, saving model to Weights2-004--127.04986.hdf5\n",
      "Epoch 5/50\n",
      "10783/10783 [==============================] - 12s 1ms/step - loss: 151.5009 - mean_absolute_error: 151.5009 - val_loss: 115.0234 - val_mean_absolute_error: 115.0234\n",
      "\n",
      "Epoch 00005: val_loss improved from 127.04986 to 115.02338, saving model to Weights2-005--115.02338.hdf5\n",
      "Epoch 6/50\n",
      "10783/10783 [==============================] - 13s 1ms/step - loss: 147.7718 - mean_absolute_error: 147.7718 - val_loss: 132.6722 - val_mean_absolute_error: 132.6722\n",
      "\n",
      "Epoch 00006: val_loss did not improve from 115.02338\n",
      "Epoch 7/50\n",
      "10783/10783 [==============================] - 12s 1ms/step - loss: 143.1753 - mean_absolute_error: 143.1753 - val_loss: 122.0817 - val_mean_absolute_error: 122.0817\n",
      "\n",
      "Epoch 00007: val_loss did not improve from 115.02338\n",
      "Epoch 8/50\n",
      "10783/10783 [==============================] - 12s 1ms/step - loss: 142.0207 - mean_absolute_error: 142.0207 - val_loss: 117.0417 - val_mean_absolute_error: 117.0417\n",
      "\n",
      "Epoch 00008: val_loss did not improve from 115.02338\n",
      "Epoch 9/50\n",
      "10783/10783 [==============================] - 13s 1ms/step - loss: 132.9659 - mean_absolute_error: 132.9659 - val_loss: 127.9612 - val_mean_absolute_error: 127.9612\n",
      "\n",
      "Epoch 00009: val_loss did not improve from 115.02338\n",
      "Epoch 10/50\n",
      "10783/10783 [==============================] - 12s 1ms/step - loss: 134.0111 - mean_absolute_error: 134.0111 - val_loss: 135.5651 - val_mean_absolute_error: 135.5651\n",
      "\n",
      "Epoch 00010: val_loss did not improve from 115.02338\n",
      "Epoch 11/50\n",
      "10783/10783 [==============================] - 12s 1ms/step - loss: 127.0459 - mean_absolute_error: 127.0459 - val_loss: 126.9599 - val_mean_absolute_error: 126.9599584 - mean_absolute\n",
      "\n",
      "Epoch 00011: val_loss did not improve from 115.02338\n",
      "Epoch 12/50\n",
      "10783/10783 [==============================] - 12s 1ms/step - loss: 127.5114 - mean_absolute_error: 127.5114 - val_loss: 133.2083 - val_mean_absolute_error: 133.2083te_error: 81.4 - ETA: 3s - loss: 145.9236 - mean_absolute_error: 145.9 - ETA: 3s \n",
      "\n",
      "Epoch 00012: val_loss did not improve from 115.02338\n",
      "Epoch 13/50\n",
      "10783/10783 [==============================] - 12s 1ms/step - loss: 119.0112 - mean_absolute_error: 119.0112 - val_loss: 135.0528 - val_mean_absolute_error: 135.0528\n",
      "\n",
      "Epoch 00013: val_loss did not improve from 115.02338\n",
      "Epoch 14/50\n",
      "10783/10783 [==============================] - 17s 2ms/step - loss: 116.6876 - mean_absolute_error: 116.6876 - val_loss: 151.2146 - val_mean_absolute_error: 151.2146\n",
      "\n",
      "Epoch 00014: val_loss did not improve from 115.02338\n",
      "Epoch 15/50\n",
      "10783/10783 [==============================] - 12s 1ms/step - loss: 116.6200 - mean_absolute_error: 116.6200 - val_loss: 168.8903 - val_mean_absolute_error: 168.8903\n",
      "\n",
      "Epoch 00015: val_loss did not improve from 115.02338\n",
      "Epoch 16/50\n",
      "10783/10783 [==============================] - 12s 1ms/step - loss: 114.3357 - mean_absolute_error: 114.3357 - val_loss: 158.0832 - val_mean_absolute_error: 158.0832\n",
      "\n",
      "Epoch 00016: val_loss did not improve from 115.02338\n",
      "Epoch 17/50\n",
      "10783/10783 [==============================] - 12s 1ms/step - loss: 109.2514 - mean_absolute_error: 109.2514 - val_loss: 154.1084 - val_mean_absolute_error: 154.1084\n",
      "\n",
      "Epoch 00017: val_loss did not improve from 115.02338\n",
      "Epoch 18/50\n",
      "10783/10783 [==============================] - 13s 1ms/step - loss: 108.4113 - mean_absolute_error: 108.4113 - val_loss: 186.5300 - val_mean_absolute_error: 186.5300\n",
      "\n",
      "Epoch 00018: val_loss did not improve from 115.02338\n",
      "Epoch 19/50\n",
      "10783/10783 [==============================] - 13s 1ms/step - loss: 107.7593 - mean_absolute_error: 107.7593 - val_loss: 207.6864 - val_mean_absolute_error: 207.6864\n",
      "\n",
      "Epoch 00019: val_loss did not improve from 115.02338\n",
      "Epoch 20/50\n",
      "10783/10783 [==============================] - 12s 1ms/step - loss: 104.5157 - mean_absolute_error: 104.5157 - val_loss: 233.9254 - val_mean_absolute_error: 233.9254\n",
      "\n",
      "Epoch 00020: val_loss did not improve from 115.02338\n",
      "Epoch 21/50\n",
      "10783/10783 [==============================] - 11s 1ms/step - loss: 95.6598 - mean_absolute_error: 95.6598 - val_loss: 291.7431 - val_mean_absolute_error: 291.7431\n",
      "\n",
      "Epoch 00021: val_loss did not improve from 115.02338\n",
      "Epoch 22/50\n",
      "10783/10783 [==============================] - 12s 1ms/step - loss: 105.2199 - mean_absolute_error: 105.2199 - val_loss: 306.8207 - val_mean_absolute_error: 306.8207\n",
      "\n",
      "Epoch 00022: val_loss did not improve from 115.02338\n",
      "Epoch 23/50\n",
      "10783/10783 [==============================] - 12s 1ms/step - loss: 92.5122 - mean_absolute_error: 92.5122 - val_loss: 400.3808 - val_mean_absolute_error: 400.3808\n",
      "\n",
      "Epoch 00023: val_loss did not improve from 115.02338\n",
      "Epoch 24/50\n",
      "10783/10783 [==============================] - 13s 1ms/step - loss: 83.9279 - mean_absolute_error: 83.9279 - val_loss: 557.5967 - val_mean_absolute_error: 557.5967\n",
      "\n",
      "Epoch 00024: val_loss did not improve from 115.02338\n",
      "Epoch 25/50\n",
      "10783/10783 [==============================] - 13s 1ms/step - loss: 80.6655 - mean_absolute_error: 80.6655 - val_loss: 703.8776 - val_mean_absolute_error: 703.8776\n",
      "\n",
      "Epoch 00025: val_loss did not improve from 115.02338\n",
      "Epoch 26/50\n",
      "10783/10783 [==============================] - 12s 1ms/step - loss: 86.0102 - mean_absolute_error: 86.0102 - val_loss: 429.4582 - val_mean_absolute_error: 429.4582\n",
      "\n",
      "Epoch 00026: val_loss did not improve from 115.02338\n",
      "Epoch 27/50\n",
      "10783/10783 [==============================] - 12s 1ms/step - loss: 75.6687 - mean_absolute_error: 75.6687 - val_loss: 522.8256 - val_mean_absolute_error: 522.8256\n",
      "\n",
      "Epoch 00027: val_loss did not improve from 115.02338\n",
      "Epoch 28/50\n",
      "10783/10783 [==============================] - 12s 1ms/step - loss: 69.0177 - mean_absolute_error: 69.0177 - val_loss: 861.2575 - val_mean_absolute_error: 861.2575\n",
      "\n",
      "Epoch 00028: val_loss did not improve from 115.02338\n",
      "Epoch 29/50\n",
      "10783/10783 [==============================] - 13s 1ms/step - loss: 89.3997 - mean_absolute_error: 89.3997 - val_loss: 499.1631 - val_mean_absolute_error: 499.1631\n",
      "\n",
      "Epoch 00029: val_loss did not improve from 115.02338\n",
      "Epoch 30/50\n",
      "10783/10783 [==============================] - 12s 1ms/step - loss: 76.8855 - mean_absolute_error: 76.8855 - val_loss: 691.8904 - val_mean_absolute_error: 691.8904\n",
      "\n",
      "Epoch 00030: val_loss did not improve from 115.02338\n",
      "Epoch 31/50\n",
      "10783/10783 [==============================] - 12s 1ms/step - loss: 61.7090 - mean_absolute_error: 61.7090 - val_loss: 443.5645 - val_mean_absolute_error: 443.5645ss: 54.4570 - mean_ab\n",
      "\n",
      "Epoch 00031: val_loss did not improve from 115.02338\n",
      "Epoch 32/50\n",
      "10783/10783 [==============================] - 12s 1ms/step - loss: 74.7678 - mean_absolute_error: 74.7678 - val_loss: 676.1049 - val_mean_absolute_error: 676.1049\n",
      "\n",
      "Epoch 00032: val_loss did not improve from 115.02338\n",
      "Epoch 33/50\n",
      "10783/10783 [==============================] - 12s 1ms/step - loss: 62.2414 - mean_absolute_error: 62.2414 - val_loss: 941.2556 - val_mean_absolute_error: 941.2556ETA: 2s - loss:\n",
      "\n",
      "Epoch 00033: val_loss did not improve from 115.02338\n",
      "Epoch 34/50\n",
      "10783/10783 [==============================] - 13s 1ms/step - loss: 79.3198 - mean_absolute_error: 79.3198 - val_loss: 539.5261 - val_mean_absolute_error: 539.5261\n",
      "\n",
      "Epoch 00034: val_loss did not improve from 115.02338\n",
      "Epoch 35/50\n",
      "10783/10783 [==============================] - 13s 1ms/step - loss: 68.9959 - mean_absolute_error: 68.9959 - val_loss: 752.8765 - val_mean_absolute_error: 752.8765\n",
      "\n",
      "Epoch 00035: val_loss did not improve from 115.02338\n",
      "Epoch 36/50\n",
      "10783/10783 [==============================] - 12s 1ms/step - loss: 61.8547 - mean_absolute_error: 61.8547 - val_loss: 487.5877 - val_mean_absolute_error: 487.5877\n",
      "\n",
      "Epoch 00036: val_loss did not improve from 115.02338\n",
      "Epoch 37/50\n",
      "10783/10783 [==============================] - 12s 1ms/step - loss: 68.3166 - mean_absolute_error: 68.3166 - val_loss: 730.4246 - val_mean_absolute_error: 730.4246- loss: 48.7078 - mean_absolute_error: - ETA: 6s - loss: 47.04 - ETA: 5s - loss: 48.5656 - mean_absolute_error: 48.56 - ETA: 4s - loss: 49.2714 - mea - ETA: 3s\n",
      "\n",
      "Epoch 00037: val_loss did not improve from 115.02338\n",
      "Epoch 38/50\n",
      "10783/10783 [==============================] - 11s 1ms/step - loss: 56.2944 - mean_absolute_error: 56.2944 - val_loss: 440.8267 - val_mean_absolute_error: 440.8267\n",
      "\n",
      "Epoch 00038: val_loss did not improve from 115.02338\n",
      "Epoch 39/50\n",
      "10783/10783 [==============================] - 12s 1ms/step - loss: 70.8024 - mean_absolute_error: 70.8024 - val_loss: 629.3032 - val_mean_absolute_error: 629.3032ETA: 2s - loss: 44\n",
      "\n",
      "Epoch 00039: val_loss did not improve from 115.02338\n",
      "Epoch 40/50\n",
      "10783/10783 [==============================] - 13s 1ms/step - loss: 65.5524 - mean_absolute_error: 65.5524 - val_loss: 861.8793 - val_mean_absolute_error: 861.8793\n",
      "\n",
      "Epoch 00040: val_loss did not improve from 115.02338\n",
      "Epoch 41/50\n",
      "10783/10783 [==============================] - 12s 1ms/step - loss: 76.2846 - mean_absolute_error: 76.2846 - val_loss: 569.0941 - val_mean_absolute_error: 569.0941\n",
      "\n",
      "Epoch 00041: val_loss did not improve from 115.02338\n",
      "Epoch 42/50\n",
      "10783/10783 [==============================] - 12s 1ms/step - loss: 63.3285 - mean_absolute_error: 63.3285 - val_loss: 764.6231 - val_mean_absolute_error: 764.62313.8158 - mean_absolute_er\n",
      "\n",
      "Epoch 00042: val_loss did not improve from 115.02338\n",
      "Epoch 43/50\n",
      "10783/10783 [==============================] - 12s 1ms/step - loss: 59.2233 - mean_absolute_error: 59.2233 - val_loss: 478.8173 - val_mean_absolute_error: 478.8173\n",
      "\n",
      "Epoch 00043: val_loss did not improve from 115.02338\n",
      "Epoch 44/50\n",
      "10783/10783 [==============================] - 13s 1ms/step - loss: 65.7146 - mean_absolute_error: 65.7146 - val_loss: 660.0238 - val_mean_absolute_error: 660.0238\n",
      "\n",
      "Epoch 00044: val_loss did not improve from 115.02338\n",
      "Epoch 45/50\n",
      "10783/10783 [==============================] - 13s 1ms/step - loss: 49.8345 - mean_absolute_error: 49.8345 - val_loss: 954.1453 - val_mean_absolute_error: 954.1453\n",
      "\n",
      "Epoch 00045: val_loss did not improve from 115.02338\n",
      "Epoch 46/50\n",
      "10783/10783 [==============================] - 12s 1ms/step - loss: 82.5191 - mean_absolute_error: 82.5191 - val_loss: 567.0951 - val_mean_absolute_error: 567.0951\n",
      "\n",
      "Epoch 00046: val_loss did not improve from 115.02338\n",
      "Epoch 47/50\n",
      "10783/10783 [==============================] - 12s 1ms/step - loss: 58.4928 - mean_absolute_error: 58.4928 - val_loss: 785.6469 - val_mean_absolute_error: 785.6469oss: 61.5578 - mean_absolute_error: 61.557 - ETA: 2s - loss:\n",
      "\n",
      "Epoch 00047: val_loss did not improve from 115.02338\n",
      "Epoch 48/50\n",
      "10783/10783 [==============================] - 12s 1ms/step - loss: 60.1458 - mean_absolute_error: 60.1458 - val_loss: 508.3795 - val_mean_absolute_error: 508.3795\n",
      "\n",
      "Epoch 00048: val_loss did not improve from 115.02338\n",
      "Epoch 49/50\n",
      "10783/10783 [==============================] - 12s 1ms/step - loss: 58.9823 - mean_absolute_error: 58.9823 - val_loss: 700.6932 - val_mean_absolute_error: 700.6932\n",
      "\n",
      "Epoch 00049: val_loss did not improve from 115.02338\n",
      "Epoch 50/50\n",
      "10783/10783 [==============================] - 13s 1ms/step - loss: 56.9351 - mean_absolute_error: 56.9351 - val_loss: 452.4843 - val_mean_absolute_error: 452.4843\n",
      "\n",
      "Epoch 00050: val_loss did not improve from 115.02338\n"
     ]
    },
    {
     "data": {
      "text/plain": [
       "<keras.callbacks.History at 0x7fb340c00080>"
      ]
     },
     "execution_count": 30,
     "metadata": {},
     "output_type": "execute_result"
    }
   ],
   "source": [
    "model2.fit(X_train, y_train, epochs=50, batch_size=32, validation_split = 0.2, callbacks=callbacks_list)"
   ]
  },
  {
   "cell_type": "markdown",
   "metadata": {},
   "source": [
    "The best value is 115.02338.  This seems worst than in the first model, but the first one was trained with non normalized data, and it was seen that the most 'strong' variable was Site EUI, so it can be infered that with normalization the other variables have now more weight."
   ]
  },
  {
   "cell_type": "code",
   "execution_count": 32,
   "metadata": {},
   "outputs": [],
   "source": [
    "# Load weights file of the best model :\n",
    "weights_file = 'Weights2-005--115.02338.hdf5' # choose the best checkpoint \n",
    "model2.load_weights(weights_file) # load it\n",
    "model2.compile(loss='mean_absolute_error', optimizer='adam', metrics=['mean_absolute_error'])"
   ]
  },
  {
   "cell_type": "code",
   "execution_count": 33,
   "metadata": {},
   "outputs": [],
   "source": [
    "predict_model2 = model2.predict(X_test)"
   ]
  },
  {
   "cell_type": "code",
   "execution_count": 34,
   "metadata": {},
   "outputs": [
    {
     "data": {
      "text/plain": [
       "array([[ 280.6603 ],\n",
       "       [ 248.82431],\n",
       "       [ 364.91562],\n",
       "       ...,\n",
       "       [ 187.71007],\n",
       "       [ 127.5742 ],\n",
       "       [2293.9592 ]], dtype=float32)"
      ]
     },
     "execution_count": 34,
     "metadata": {},
     "output_type": "execute_result"
    }
   ],
   "source": [
    "predict_model2"
   ]
  },
  {
   "cell_type": "markdown",
   "metadata": {},
   "source": [
    "## 7- Compare the results from both DNN's to another ML algorithm (random forest)"
   ]
  },
  {
   "cell_type": "markdown",
   "metadata": {},
   "source": [
    "Using the same normalized data"
   ]
  },
  {
   "cell_type": "code",
   "execution_count": 35,
   "metadata": {},
   "outputs": [
    {
     "data": {
      "text/plain": [
       "RandomForestRegressor(bootstrap=True, criterion='mse', max_depth=None,\n",
       "           max_features='auto', max_leaf_nodes=None,\n",
       "           min_impurity_decrease=0.0, min_impurity_split=None,\n",
       "           min_samples_leaf=1, min_samples_split=2,\n",
       "           min_weight_fraction_leaf=0.0, n_estimators=10, n_jobs=None,\n",
       "           oob_score=False, random_state=None, verbose=0, warm_start=False)"
      ]
     },
     "execution_count": 35,
     "metadata": {},
     "output_type": "execute_result"
    }
   ],
   "source": [
    "model3 = RandomForestRegressor()\n",
    "model3.fit(X_train,y_train)"
   ]
  },
  {
   "cell_type": "code",
   "execution_count": 36,
   "metadata": {},
   "outputs": [
    {
     "name": "stdout",
     "output_type": "stream",
     "text": [
      "Random forest validation MAE =  183.1571661721068\n"
     ]
    }
   ],
   "source": [
    "predict_model3 = model3.predict(X_test)\n",
    "MAE = mean_absolute_error(y_test , predict_model3)\n",
    "print('Random forest validation MAE = ', MAE)"
   ]
  },
  {
   "cell_type": "markdown",
   "metadata": {},
   "source": [
    "Now we calculate MAE for the first and second NN using the predicted values and the real values of the test set:"
   ]
  },
  {
   "cell_type": "code",
   "execution_count": 38,
   "metadata": {},
   "outputs": [
    {
     "name": "stdout",
     "output_type": "stream",
     "text": [
      "First NN =  65.14283659643517\n",
      "Second NN =  241.77107880697054\n"
     ]
    }
   ],
   "source": [
    "MAE1 = mean_absolute_error(y_test , predict_model1)\n",
    "print('First NN = ', MAE1)\n",
    "MAE2 = mean_absolute_error(y_test , predict_model2)\n",
    "print('Second NN = ', MAE2)"
   ]
  },
  {
   "cell_type": "markdown",
   "metadata": {},
   "source": [
    "As expected, Random forest performed better at regression that a NN, although NN can still be fine tuned for better results."
   ]
  },
  {
   "cell_type": "code",
   "execution_count": null,
   "metadata": {},
   "outputs": [],
   "source": []
  }
 ],
 "metadata": {
  "kernelspec": {
   "display_name": "Python",
   "language": "python",
   "name": "conda-env-python-py"
  },
  "language_info": {
   "codemirror_mode": {
    "name": "ipython",
    "version": 3
   },
   "file_extension": ".py",
   "mimetype": "text/x-python",
   "name": "python",
   "nbconvert_exporter": "python",
   "pygments_lexer": "ipython3",
   "version": "3.6.11"
  }
 },
 "nbformat": 4,
 "nbformat_minor": 4
}
